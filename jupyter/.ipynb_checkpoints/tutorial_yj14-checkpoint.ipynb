{
 "cells": [
  {
   "cell_type": "markdown",
   "id": "8d54125b",
   "metadata": {},
   "source": [
    "# Attacking YJ14\n",
    "\n",
    "Complete decryption attack against the YJ14 scheme based on\n",
    "CVE-2021-37587. It requires the corruption of one of the authorities\n",
    "to obtain x_2.\n",
    "\n",
    "![title](img/yj14_main.png)"
   ]
  },
  {
   "cell_type": "markdown",
   "id": "bde94cd8",
   "metadata": {},
   "source": [
    "## Setup"
   ]
  },
  {
   "cell_type": "code",
   "execution_count": null,
   "id": "cf123a0a",
   "metadata": {},
   "outputs": [],
   "source": [
    "from charm.toolbox.pairinggroup import PairingGroup,ZR,G1,GT,pair\n",
    "from charm.toolbox.secretutil import SecretUtil\n",
    "from charm.toolbox.ABEncMultiAuth import ABEncMultiAuth\n",
    "from charm.schemes.abenc.abenc_maabe_yj14 import MAABE\n",
    "\n",
    "from abeattacks import attack_yj14"
   ]
  },
  {
   "cell_type": "markdown",
   "id": "9dee7f1e",
   "metadata": {},
   "source": [
    "## System generation and configuration"
   ]
  },
  {
   "cell_type": "code",
   "execution_count": null,
   "id": "e249c587",
   "metadata": {},
   "outputs": [],
   "source": [
    "groupObj = PairingGroup('SS512')\n",
    "maabe = MAABE(groupObj)\n",
    "\n",
    "# Global authority setup\n",
    "GPP, GMK = maabe.setup()\n",
    "   \n",
    "# Insurance KGA setup\n",
    "\n",
    "users = {} # public user data\n",
    "authorities = {}\n",
    "authorityAttributes = [\"CONSULTANT\", \"OPERATIONS\", \"FINANCIAL\", \"DOWNTOWN\"]\n",
    "authority1 = \"Insurance KGA\"\n",
    "maabe.setupAuthority(GPP, authority1, authorityAttributes, authorities)\n",
    "   \n",
    "# We create two users working with the Insurance KGA\n",
    "# Alice receieves the CONSULTANT attribute whereas BOB obtains\n",
    "# DOWNTOWN.\n",
    "\n",
    "alice = { 'id': 'alice', 'authoritySecretKeys': {}, 'keys': None }\n",
    "alice['keys'], users[alice['id']] = maabe.registerUser(GPP)\n",
    "SK_i = maabe.keygen(GPP, authorities[authority1], \"CONSULTANT\", users[alice['id']], alice['authoritySecretKeys'])\n",
    " \n",
    "bob = { 'id': 'bob', 'authoritySecretKeys': {}, 'keys': None }\n",
    "bob['keys'], users[bob['id']] = maabe.registerUser(GPP)\n",
    "SK_bob_i = maabe.keygen(GPP, authorities[authority1], \"DOWNTOWN\", users[bob['id']], alice['authoritySecretKeys'])\n",
    "\n",
    "# The data owner prepares two content keys, one for Alice and another one\n",
    "# for Bob\n",
    "\n",
    "k = groupObj.random(GT)\n",
    "policy_str = '(CONSULTANT or OPERATIONS)'\n",
    "CT = maabe.encrypt(GPP, policy_str, k, authorities[authority1])\n",
    " \n",
    "k_bob = groupObj.random(GT)\n",
    "policy_str_bob = '(DOWNTOWN or FINANCIAL)'\n",
    "CT_bob = maabe.encrypt(GPP, policy_str_bob, k_bob, authorities[authority1])"
   ]
  },
  {
   "cell_type": "markdown",
   "id": "2c356cc2",
   "metadata": {},
   "source": [
    "## Recovering Bob's content key"
   ]
  },
  {
   "cell_type": "code",
   "execution_count": null,
   "id": "d2149ad5",
   "metadata": {},
   "outputs": [],
   "source": [
    "pk_1 = alice['keys'][0]\n",
    "sk_2 = alice['keys'][1] \n",
    "pk_2 = users[alice['id']]['pk']    \n",
    "\n",
    "# This parameter is typically part of the KGA that we need\n",
    "# to corrupt\n",
    "\n",
    "sk_1 = users[alice['id']]['sk']\n",
    "\n",
    "egg = attack_yj14.yj14_corrupt_authority(SK_i['K'], CT_bob['C2'], SK_i['KS'], CT_bob['C3'], GPP['g_a'], sk_1)\n",
    "k_bob_recovered = CT_bob['C1'] / egg\n",
    "\n",
    "assert k_bob_recovered == k_bob, 'I cannot recover Bob content key'\n",
    "print('I can recover Bob content key')\n"
   ]
  }
 ],
 "metadata": {
  "kernelspec": {
   "display_name": "Python 3 (ipykernel)",
   "language": "python",
   "name": "python3"
  },
  "language_info": {
   "codemirror_mode": {
    "name": "ipython",
    "version": 3
   },
   "file_extension": ".py",
   "mimetype": "text/x-python",
   "name": "python",
   "nbconvert_exporter": "python",
   "pygments_lexer": "ipython3",
   "version": "3.9.5"
  }
 },
 "nbformat": 4,
 "nbformat_minor": 5
}
